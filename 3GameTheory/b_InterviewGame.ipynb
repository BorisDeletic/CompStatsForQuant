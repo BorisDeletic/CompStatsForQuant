{
 "cells": [
  {
   "cell_type": "markdown",
   "id": "2e0ddb88-5b63-4350-b987-cdeeceffed81",
   "metadata": {},
   "source": [
    "# Trading Interview Game\n",
    "\n",
    "Now we have introduced CFR and understand the basics, lets try apply it to a problem inspired by a real interview question from a top quantitative trading firm.\n",
    "\n",
    "## The Game - Part 1\n",
    "\n",
    "The game starts with two players, both have to submit a number between 0 and 100 on a piece of paper. After the numbers are submitted, the papers are checked and whoever submitted the larger number must pay the other player their number. \n",
    "\n",
    "A few examples:\n",
    "* Player A submits 90, Player B submits 10. Player B wins so receives \\$10.\n",
    "* Player A submits 15, Player B submits 20. Player A wins so receives \\$15.\n",
    "* Player A submits 1, Player B submits 99. Player A wins so receives \\$1.\n",
    "\n",
    "Imagine you are playing this game and versing an opponent who submits a random number between 1 and 100.\n",
    "The warm-up question, which can be solved with just paper and pen, is to calculate the optimal number for you to submit, such that you maximise you expected value in this game. \n",
    "\n",
    "\n"
   ]
  },
  {
   "cell_type": "markdown",
   "id": "70a0251d-de83-40ff-b241-c81ab583f017",
   "metadata": {},
   "source": [
    "## The Game - Part 2\n",
    "\n",
    "Now we introduce a third player to the game who is perfectly rational, as are you, and there is still a player who submits a random bid. The penalty for losing a game is now greater, as the person who submits the highest number must now pay all the other players their number. If there is a tie for highest bid, they each pay half of the third players number.\n",
    "\n",
    "For example:\n",
    "* Player A submits 50, Player B submits 40, Player C submits 30. A loses so pays B \\\\$40 and pays C \\\\$30.\n",
    "* Player A submits 20, Player B submits 50, Player C submits 50. B and C tie to lose, so both pay A \\\\$10 each.\n",
    "\n",
    "\n",
    "Our previous strategy of picking a single number is no longer profitable as we will get exploited by the new player. It is likely we will now need to play a mixed strategy. Let's try solve this problem using CFR where we will find the nash equilibrium between player A and player B, and play this strategy to maximise our expected value. \n",
    "\n",
    "It is worth trying to solve this problem with just pen and paper too, as would be expected in an interview. We have therefore leftout the graph showing the answer and have it in the solutions document.\n",
    "\n",
    "### Extension\n",
    "In order to calculate a solution which converged fast enough, I had to use a slight modification on CFR called [CFR+](https://arxiv.org/pdf/1407.5042).\n",
    "\n",
    "To check your nash equilibrium solution you can see how its EV compares to a pure strategy of choosing a single number. This is an easy way to check if you have made a mistake, as the nash strategy should beat all pure strategies. \n",
    "\n",
    "Further, you can compute the *exploitability* of a strategy to get a numerical value for the maximum theoretical exploitability of your strategy. You can also compare this to exploitability of pure strategies. I'll leave it up to you to figure out how to do this"
   ]
  },
  {
   "cell_type": "code",
   "execution_count": 41,
   "id": "ef19153b-c3b5-4455-b6c8-57cbe37b8f24",
   "metadata": {},
   "outputs": [],
   "source": [
    "import numpy as np\n",
    "import matplotlib.pyplot as plt\n",
    "N = 101\n",
    "actions = np.arange(1, N)"
   ]
  },
  {
   "cell_type": "code",
   "execution_count": 79,
   "id": "ba70c7e9-d536-4235-8086-2364ccae53b8",
   "metadata": {},
   "outputs": [],
   "source": [
    "# hero number is first\n",
    "def game_outcome(numbers: list[int]) -> int:\n",
    "    '''\n",
    "    numbers: [hero_number, villain1_number, villain2_number]\n",
    "    \n",
    "    Return the win or loss for the hero given the submitted numbers\n",
    "    according to the rules of the game\n",
    "    '''"
   ]
  },
  {
   "cell_type": "code",
   "execution_count": 80,
   "id": "539291ad-0803-427f-83ce-54e05427af38",
   "metadata": {},
   "outputs": [],
   "source": [
    "'''\n",
    "Action is the number to submit (100 possible actions)\n",
    "\n",
    "Tip: to speedup the computation, we can incorporate the randomness \n",
    "of player C's bid into our payoff function by taking an average over \n",
    "all 100 possible choices, instead of actually choosing a random number for player C.\n",
    "'''\n",
    "\n",
    "def payoff(hero_action: int, villain_strategy: np.array(float)) -> float:\n",
    "    '''\n",
    "    PAYOFF FUNCTION HERE\n",
    "    '''    "
   ]
  },
  {
   "cell_type": "code",
   "execution_count": 81,
   "id": "3be25fd7-6ab7-4602-9277-d7e654849c40",
   "metadata": {},
   "outputs": [],
   "source": [
    "'''\n",
    "Calculate immediate regret for every action\n",
    "'''\n",
    "def calculate_immediate_regret(hero_strategy: np.array(float), villain_strategy: np.array(float)) -> np.array(float):\n",
    "    '''\n",
    "    IMMEDIATE REGRET \n",
    "    '''\n"
   ]
  },
  {
   "cell_type": "code",
   "execution_count": 82,
   "id": "e39f99ca-418e-490b-bf1b-56c2641355b8",
   "metadata": {},
   "outputs": [],
   "source": [
    "'''\n",
    "Calculate new strategy based on accumulated regret for the hero\n",
    "'''\n",
    "\n",
    "def calculate_strategy(acc_regrets: np.array(float)) -> np.array(float):\n",
    "    '''\n",
    "    CALCULATE NEW STRATEGY\n",
    "    '''\n"
   ]
  },
  {
   "cell_type": "code",
   "execution_count": 83,
   "id": "6f9e4017-d113-4a04-bfa8-808434ee9182",
   "metadata": {
    "scrolled": true
   },
   "outputs": [
    {
     "ename": "UFuncTypeError",
     "evalue": "Cannot cast ufunc 'add' output from dtype('O') to dtype('float64') with casting rule 'same_kind'",
     "output_type": "error",
     "traceback": [
      "\u001b[0;31m---------------------------------------------------------------------------\u001b[0m",
      "\u001b[0;31mUFuncTypeError\u001b[0m                            Traceback (most recent call last)",
      "Cell \u001b[0;32mIn[83], line 17\u001b[0m\n\u001b[1;32m     14\u001b[0m strat_history \u001b[38;5;241m=\u001b[39m []\n\u001b[1;32m     16\u001b[0m \u001b[38;5;28;01mfor\u001b[39;00m t \u001b[38;5;129;01min\u001b[39;00m \u001b[38;5;28mrange\u001b[39m(steps):\n\u001b[0;32m---> 17\u001b[0m     acc_regretsA \u001b[38;5;241m+\u001b[39m\u001b[38;5;241m=\u001b[39m calculate_immediate_regret(strategyA, strategyB)\n\u001b[1;32m     18\u001b[0m     strategyA \u001b[38;5;241m=\u001b[39m calculate_strategy(acc_regretsA)\n\u001b[1;32m     20\u001b[0m     acc_regretsB \u001b[38;5;241m+\u001b[39m\u001b[38;5;241m=\u001b[39m calculate_immediate_regret(strategyB, strategyA)\n",
      "\u001b[0;31mUFuncTypeError\u001b[0m: Cannot cast ufunc 'add' output from dtype('O') to dtype('float64') with casting rule 'same_kind'"
     ]
    }
   ],
   "source": [
    "'''\n",
    "Run CFR algorithm.\n",
    "We set initial strategy for player A and B to both pick rock 100% of the time. \n",
    "'''\n",
    "\n",
    "strategyA = np.ones(N) / N\n",
    "strategyB = np.ones(N) / N\n",
    "\n",
    "acc_regretsA = np.zeros(N)\n",
    "acc_regretsB = np.zeros(N)\n",
    "\n",
    "steps = 100\n",
    "\n",
    "strat_history = []\n",
    "\n",
    "for t in range(steps):\n",
    "    acc_regretsA += calculate_immediate_regret(strategyA, strategyB)\n",
    "    strategyA = calculate_strategy(acc_regretsA)\n",
    "    \n",
    "    acc_regretsB += calculate_immediate_regret(strategyB, strategyA)\n",
    "    strategyB = calculate_strategy(acc_regretsB)\n",
    "\n",
    "    strat_history.append(strategyA)\n"
   ]
  }
 ],
 "metadata": {
  "kernelspec": {
   "display_name": "Python 3 (ipykernel)",
   "language": "python",
   "name": "python3"
  },
  "language_info": {
   "codemirror_mode": {
    "name": "ipython",
    "version": 3
   },
   "file_extension": ".py",
   "mimetype": "text/x-python",
   "name": "python",
   "nbconvert_exporter": "python",
   "pygments_lexer": "ipython3",
   "version": "3.12.5"
  }
 },
 "nbformat": 4,
 "nbformat_minor": 5
}
