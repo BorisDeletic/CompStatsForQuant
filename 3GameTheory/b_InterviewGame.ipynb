{
 "cells": [
  {
   "cell_type": "markdown",
   "id": "2e0ddb88-5b63-4350-b987-cdeeceffed81",
   "metadata": {},
   "source": [
    "# Trading Interview Game\n",
    "\n",
    "Now we have introduced CFR and understand the basics, lets try apply it to a problem inspired by a real interview question from a top quantitative trading firm.\n",
    "\n",
    "## The Game - Part 1\n",
    "\n",
    "The game starts with two players, both have to submit a number between 0 and 100 on a piece of paper. After the numbers are submitted, the papers are checked and whoever submitted the larger number must pay the other player their number. \n",
    "\n",
    "A few examples:\n",
    "* Player A submits 90, Player B submits 10. Player B wins so receives \\$10.\n",
    "* Player A submits 15, Player B submits 20. Player A wins so receives \\$15.\n",
    "* Player A submits 1, Player B submits 99. Player A wins so receives \\$1.\n",
    "\n",
    "Imagine you are playing this game and versing an opponent who submits a random number between 1 and 100.\n",
    "The warm-up question, which can be solved with just paper and pen, is to calculate the optimal number for you to submit, such that you maximise you expected value in this game. \n",
    "\n",
    "\n"
   ]
  },
  {
   "cell_type": "markdown",
   "id": "cde9f88b-9dcd-411f-89cb-e807e828c304",
   "metadata": {},
   "source": [
    "## Part 1 - Solution\n",
    "\n",
    "Let $X$ be the number we submit. We can write the probability we win as \n",
    "$$\n",
    "P(X) = 1 - \\frac{X}{100}\n",
    "$$\n",
    "The payout when we win is simply $X$. The payout when we lose is the other players number. As this will be distributed uniformly between 0 and $X$, the loss will be on average, $X/2$. Therefore we write the expected value as\n",
    "$$\n",
    "\\mathbb{E}(X) = X P(X) - \\frac{X}{2} (1 - P(X)) = X - \\frac{3 X^2}{200}\n",
    "$$\n",
    "\n",
    "Now we just solve for the maximum of this function (take derivative and set to zero) to get $X_0 = 33$.\n",
    "\n",
    "\n"
   ]
  },
  {
   "cell_type": "markdown",
   "id": "70a0251d-de83-40ff-b241-c81ab583f017",
   "metadata": {},
   "source": [
    "## The Game - Part 2\n",
    "\n",
    "Now we introduce a third player to the game who is perfectly rational, as are you, and there is still a player who submits a random bid. The penalty for losing a game is now greater, as the person who submits the highest number must now pay all the other players their number. If there is a tie for highest bid, they each pay half of the third players number.\n",
    "\n",
    "For example:\n",
    "* Player A submits 50, Player B submits 40, Player C submits 30. A loses so pays B \\\\$40 and pays C \\\\$30.\n",
    "* Player A submits 20, Player B submits 50, Player C submits 50. B and C tie to lose, so both pay A \\\\$10 each.\n",
    "\n",
    "\n",
    "Our previous strategy of picking a single number is no longer profitable as we will get exploited by the new player. It is likely we will now need to play a mixed strategy. Let's try solve this problem using CFR where we will find the nash equilibrium between player A and player B, and play this strategy to maximise our expected value. \n",
    "\n",
    "It is worth trying to solve this problem with just pen and paper too, as would be expected in an interview. We have therefore leftout the graph showing the answer and have it in the solutions document."
   ]
  },
  {
   "cell_type": "code",
   "execution_count": 1,
   "id": "ef19153b-c3b5-4455-b6c8-57cbe37b8f24",
   "metadata": {},
   "outputs": [],
   "source": [
    "import numpy as np\n",
    "import matplotlib.pyplot as plt\n",
    "N = 101\n",
    "actions = np.arange(1, N)"
   ]
  },
  {
   "cell_type": "code",
   "execution_count": 2,
   "id": "ba70c7e9-d536-4235-8086-2364ccae53b8",
   "metadata": {},
   "outputs": [],
   "source": [
    "'''\n",
    "Tip: to speedup the computation, we can incorporate the randomness \n",
    "of player C's bid into our payoff function by taking an average over \n",
    "all 100 possible choices, instead of actually choosing a random number for player C.\n",
    "'''\n",
    "\n",
    "# hero number is first\n",
    "def game_outcome(numbers: list[int]) -> int:\n",
    "    m = max(numbers)\n",
    "    max_index = [i for i, j in enumerate(numbers) if j == m]\n",
    "\n",
    "    outcome = numbers.copy()\n",
    "\n",
    "    if len(max_index) == 1:\n",
    "        loss = m - sum(numbers)\n",
    "        outcome[max_index[0]] = loss\n",
    "\n",
    "        return outcome[0]\n",
    "\n",
    "    if len(max_index) == 2:\n",
    "        loss = m - sum(numbers) / 2\n",
    "        outcome[max_index[0]] = loss\n",
    "        outcome[max_index[1]] = loss\n",
    "\n",
    "        return outcome[0]\n",
    "\n",
    "    if len(max_index) == 3:\n",
    "        return 0\n"
   ]
  },
  {
   "cell_type": "code",
   "execution_count": 3,
   "id": "539291ad-0803-427f-83ce-54e05427af38",
   "metadata": {},
   "outputs": [],
   "source": [
    "'''\n",
    "Action is the number to submit (100 possible actions)\n",
    "'''\n",
    "\n",
    "def payoff(hero_action: int, villain_strategy: np.array(float)) -> float:\n",
    "    '''\n",
    "    PAYOFF FUNCTION HERE\n",
    "    '''\n",
    "    EV = 0\n",
    "\n",
    "    for i in range(N):\n",
    "        for j in range(N):\n",
    "            nums = [hero_action, i, j]\n",
    "            EV += game_outcome(nums) * 1/100 * villain_strategy[i]\n",
    "\n",
    "    return EV\n",
    "\n",
    "    "
   ]
  },
  {
   "cell_type": "code",
   "execution_count": 7,
   "id": "3be25fd7-6ab7-4602-9277-d7e654849c40",
   "metadata": {},
   "outputs": [],
   "source": [
    "'''\n",
    "Calculate immediate regret for every action\n",
    "'''\n",
    "def calculate_immediate_regret(hero_strategy: np.array(float), villain_strategy: np.array(float)) -> np.array(float):\n",
    "    '''\n",
    "    IMMEDIATE REGRET \n",
    "    '''\n",
    "    hero_EV = 0\n",
    "    for a in actions:\n",
    "        hero_EV += hero_strategy[a] * payoff(a, villain_strategy)\n",
    "\n",
    "    regrets = np.zeros(N)\n",
    "    \n",
    "    for a in actions:\n",
    "        regrets[a] = payoff(a, villain_strategy) - hero_EV\n",
    "\n",
    "    return regrets\n",
    "\n"
   ]
  },
  {
   "cell_type": "code",
   "execution_count": 8,
   "id": "e39f99ca-418e-490b-bf1b-56c2641355b8",
   "metadata": {},
   "outputs": [],
   "source": [
    "\n",
    "'''\n",
    "Calculate new strategy based on accumulated regret for the hero\n",
    "'''\n",
    "\n",
    "def calculate_strategy(acc_regrets: np.array(float)) -> np.array(float):\n",
    "    '''\n",
    "    CALCULATE NEW STRATEGY\n",
    "    '''\n",
    "    positive_regret = np.where(acc_regrets > 0, acc_regrets, 0)\n",
    "\n",
    "    normalisation = np.sum(positive_regret)\n",
    "\n",
    "    if normalisation == 0:\n",
    "        return np.ones(N) / N\n",
    "        \n",
    "    return positive_regret / normalisation\n",
    "        \n",
    "\n"
   ]
  },
  {
   "cell_type": "code",
   "execution_count": 9,
   "id": "6f9e4017-d113-4a04-bfa8-808434ee9182",
   "metadata": {
    "scrolled": true
   },
   "outputs": [],
   "source": [
    "'''\n",
    "Run CFR algorithm.\n",
    "We set initial strategy for player A and B to both pick rock 100% of the time. \n",
    "'''\n",
    "\n",
    "strategyA = np.ones(N) / N\n",
    "strategyB = np.ones(N) / N\n",
    "\n",
    "acc_regretsA = np.zeros(N)\n",
    "acc_regretsB = np.zeros(N)\n",
    "\n",
    "steps = 100\n",
    "\n",
    "strat_history = []\n",
    "strat_history_B = []\n",
    "\n",
    "for t in range(steps):\n",
    "    acc_regretsA += calculate_immediate_regret(strategyA, strategyB)\n",
    "    strategyA = calculate_strategy(acc_regretsA)\n",
    "    \n",
    "    acc_regretsB += calculate_immediate_regret(strategyB, strategyA)\n",
    "    strategyB = calculate_strategy(acc_regretsB)\n",
    "\n",
    "    strat_history.append(strategyA)\n",
    "    strat_history_B.append(strategyB)\n"
   ]
  },
  {
   "cell_type": "code",
   "execution_count": 10,
   "id": "3d1c9565-68e4-4277-977d-a884e3a633b8",
   "metadata": {},
   "outputs": [],
   "source": [
    "strat_history = np.array(strat_history)\n",
    "\n",
    "avg_strats = np.cumsum(strat_history, axis=0)\n",
    "norm = np.sum(avg_strats, axis=1)[:,None]\n",
    "\n",
    "strats = avg_strats / norm\n",
    "\n",
    "nash_strat = strats[-1]"
   ]
  },
  {
   "cell_type": "code",
   "execution_count": 11,
   "outputs": [],
   "source": [
    "strat_history_B = np.array(strat_history_B)\n",
    "\n",
    "avg_strats_B = np.cumsum(strat_history_B, axis=0)\n",
    "norm = np.sum(avg_strats_B, axis=1)[:,None]\n",
    "\n",
    "stratsB = avg_strats_B / norm\n",
    "\n",
    "nash_strat_B = stratsB[-1]"
   ],
   "metadata": {
    "collapsed": false
   }
  },
  {
   "cell_type": "code",
   "execution_count": 16,
   "id": "fa13f3c9-0ac6-4d3d-8d57-195045a4afd8",
   "metadata": {},
   "outputs": [
    {
     "data": {
      "text/plain": "<Figure size 640x480 with 1 Axes>",
      "image/png": "[encoded data removed]"
     },
     "metadata": {},
     "output_type": "display_data"
    }
   ],
   "source": [
    "fig, ax = plt.subplots()\n",
    "\n",
    "ax.plot(nash_strat)\n",
    "ax.set_title('Nash Equilibrium - Numbers Game with 3 players')\n",
    "ax.set_xlabel('Number to submit')\n",
    "ax.set_ylabel('Probability')\n",
    "# plt.show()\n",
    "plt.savefig('figs/numbers_game_nash.png')"
   ]
  },
  {
   "cell_type": "code",
   "execution_count": 14,
   "outputs": [
    {
     "name": "stdout",
     "output_type": "stream",
     "text": [
      "14.06365399240168\n"
     ]
    }
   ],
   "source": [
    "hero_EV = 0\n",
    "for a in actions:\n",
    "    hero_EV += nash_strat[a] * payoff(a, nash_strat_B)\n",
    "\n",
    "print(hero_EV)"
   ],
   "metadata": {
    "collapsed": false
   }
  },
  {
   "cell_type": "code",
   "execution_count": null,
   "outputs": [],
   "source": [],
   "metadata": {
    "collapsed": false
   }
  }
 ],
 "metadata": {
  "kernelspec": {
   "display_name": "Python 3 (ipykernel)",
   "language": "python",
   "name": "python3"
  },
  "language_info": {
   "codemirror_mode": {
    "name": "ipython",
    "version": 3
   },
   "file_extension": ".py",
   "mimetype": "text/x-python",
   "name": "python",
   "nbconvert_exporter": "python",
   "pygments_lexer": "ipython3",
   "version": "3.9.6"
  }
 },
 "nbformat": 4,
 "nbformat_minor": 5
}
